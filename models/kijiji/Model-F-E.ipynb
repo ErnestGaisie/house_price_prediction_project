{
 "cells": [
  {
   "cell_type": "code",
   "execution_count": null,
   "metadata": {},
   "outputs": [],
   "source": [
    "import pandas as pd\n",
    "import numpy as np\n",
    "import matplotlib.pyplot as plt\n",
    "import seaborn as sns\n",
    "from sklearn.preprocessing import LabelEncoder"
   ]
  },
  {
   "cell_type": "code",
   "execution_count": null,
   "metadata": {},
   "outputs": [],
   "source": [
    "# Load the cleaned dataset\n",
    "combined_data = pd.read_csv('combined_data_cleaned.csv')\n",
    "\n",
    "# Display basic information to verify the dataset\n",
    "print(\"Dataset Info:\")\n",
    "print(combined_data.info())"
   ]
  },
  {
   "cell_type": "code",
   "execution_count": null,
   "metadata": {},
   "outputs": [],
   "source": [
    "# Make a copy of the dataset for encoding\n",
    "combined_encoded = combined_data.copy()\n",
    "\n",
    "# Encode 'City' and 'Province' columns\n",
    "label_encoders = {}\n",
    "for col in ['City', 'Province']:\n",
    "    le = LabelEncoder()\n",
    "    combined_encoded[col] = le.fit_transform(combined_encoded[col])\n",
    "    label_encoders[col] = le  # Store the encoder for later use"
   ]
  },
  {
   "cell_type": "code",
   "execution_count": null,
   "metadata": {},
   "outputs": [],
   "source": [
    "# Select numeric columns\n",
    "numeric_and_encoded_data = combined_encoded.select_dtypes(include=['float64', 'int64'])\n",
    "\n",
    "# Add encoded 'City' and 'Province' columns\n",
    "numeric_and_encoded_data['City'] = combined_encoded['City']\n",
    "numeric_and_encoded_data['Province'] = combined_encoded['Province']\n",
    "\n",
    "# Display the columns in the numeric and encoded dataset for verification\n",
    "print(\"Numeric and Encoded Data Columns:\")\n",
    "print(numeric_and_encoded_data.columns)"
   ]
  },
  {
   "cell_type": "code",
   "execution_count": null,
   "metadata": {},
   "outputs": [],
   "source": [
    "# Calculate the correlation matrix\n",
    "plt.figure(figsize=(12, 8))\n",
    "correlation_matrix = numeric_and_encoded_data.corr()\n",
    "\n",
    "# Plot the heatmap\n",
    "sns.heatmap(correlation_matrix, annot=True, fmt='.2f', cmap='coolwarm')\n",
    "plt.title(\"Correlation Matrix Including Encoded Categorical Features\")\n",
    "plt.show()"
   ]
  },
  {
   "cell_type": "code",
   "execution_count": null,
   "metadata": {},
   "outputs": [],
   "source": [
    "# Scatter plot for Population vs. Price\n",
    "plt.figure(figsize=(8, 6))\n",
    "sns.scatterplot(x=combined_data['Population'], y=combined_data['Price'])\n",
    "plt.title(\"Population vs. Price\")\n",
    "plt.xlabel(\"Population\")\n",
    "plt.ylabel(\"Price\")\n",
    "plt.show()\n",
    "\n",
    "# Box plot for Province vs. Price\n",
    "plt.figure(figsize=(12, 6))\n",
    "sns.boxplot(x=combined_data['Province'], y=combined_data['Price'])\n",
    "plt.title(\"Province vs. Price\")\n",
    "plt.xlabel(\"Province\")\n",
    "plt.ylabel(\"Price\")\n",
    "plt.xticks(rotation=45)\n",
    "plt.show()"
   ]
  },
  {
   "cell_type": "code",
   "execution_count": null,
   "metadata": {},
   "outputs": [],
   "source": [
    "import pandas as pd\n",
    "import numpy as np\n",
    "import matplotlib.pyplot as plt\n",
    "import seaborn as sns\n",
    "from sklearn.preprocessing import LabelEncoder, StandardScaler"
   ]
  },
  {
   "cell_type": "code",
   "execution_count": null,
   "metadata": {},
   "outputs": [],
   "source": [
    "# Load the cleaned dataset\n",
    "combined_data = pd.read_csv('combined_data_cleaned.csv')\n",
    "\n",
    "# Display basic information\n",
    "print(\"Dataset Info:\")\n",
    "print(combined_data.info())\n",
    "\n",
    "# Check for missing values\n",
    "print(\"Missing Values:\")\n",
    "print(combined_data.isnull().sum())"
   ]
  },
  {
   "cell_type": "code",
   "execution_count": null,
   "metadata": {},
   "outputs": [],
   "source": [
    "# Create a composite feature combining Province and City\n",
    "combined_data['Province_City'] = combined_data['Province'] + \"_\" + combined_data['City'].astype(str)"
   ]
  },
  {
   "cell_type": "code",
   "execution_count": null,
   "metadata": {},
   "outputs": [],
   "source": [
    "# Map Province to its median Price\n",
    "province_median_price = combined_data.groupby('Province')['Price'].median().to_dict()\n",
    "combined_data['Province_Median_Price'] = combined_data['Province'].map(province_median_price)\n",
    "\n",
    "# Drop the original Province column\n",
    "combined_data.drop(columns=['Province'], inplace=True)"
   ]
  },
  {
   "cell_type": "code",
   "execution_count": null,
   "metadata": {},
   "outputs": [],
   "source": [
    "# Drop weak features like Garage, Lot_Area, and Year_Built\n",
    "combined_data.drop(columns=['Garage', 'Lot_Area', 'Year_Built'], inplace=True)"
   ]
  },
  {
   "cell_type": "code",
   "execution_count": null,
   "metadata": {},
   "outputs": [],
   "source": [
    "# Encode Province_City\n",
    "le = LabelEncoder()\n",
    "combined_data['Province_City'] = le.fit_transform(combined_data['Province_City'])"
   ]
  },
  {
   "cell_type": "code",
   "execution_count": null,
   "metadata": {},
   "outputs": [],
   "source": [
    "# Select numerical columns\n",
    "numerical_cols = ['Bedrooms', 'Bathrooms', 'Population', 'Median_Family_Income', 'Province_Median_Price']\n",
    "scaler = StandardScaler()\n",
    "\n",
    "# Scale the numerical columns\n",
    "combined_data[numerical_cols] = scaler.fit_transform(combined_data[numerical_cols])"
   ]
  },
  {
   "cell_type": "code",
   "execution_count": null,
   "metadata": {},
   "outputs": [],
   "source": [
    "# Create a box plot for Price distribution across Province_City\n",
    "plt.figure(figsize=(12, 8))\n",
    "sns.boxplot(x='Province_City', y='Price', data=combined_data)\n",
    "plt.title(\"Price Distribution by Province_City\")\n",
    "plt.xlabel(\"Province_City\")\n",
    "plt.ylabel(\"Price\")\n",
    "plt.xticks(rotation=90)  # Rotate labels for better readability\n",
    "plt.show()"
   ]
  }
 ],
 "metadata": {
  "kernelspec": {
   "display_name": "PySpark",
   "language": "python",
   "name": "pyspark"
  },
  "language_info": {
   "name": "python",
   "version": "3.12.3"
  }
 },
 "nbformat": 4,
 "nbformat_minor": 2
}
